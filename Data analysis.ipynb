{
 "cells": [
  {
   "cell_type": "code",
   "execution_count": 12,
   "metadata": {},
   "outputs": [],
   "source": [
    "import os\n",
    "import numpy as np # linear algebra\n",
    "import pandas as pd # data processing, I/O csv \n",
    "import pathlib\n",
    "import PIL\n",
    "import tensorflow as tf\n",
    "\n",
    "import re\n",
    "from collections import Counter\n",
    "\n",
    "from sklearn.utils.multiclass import unique_labels\n",
    "from sklearn.datasets import load_sample_image\n",
    "\n",
    "from tensorflow.keras import Model \n",
    "from tensorflow.keras.layers import Conv2D, Dense, MaxPooling2D, Dropout, Flatten,GlobalAveragePooling2D\n",
    "from tensorflow.keras.models import Sequential\n",
    "from tensorflow.keras.preprocessing.image import ImageDataGenerator\n",
    "from tensorflow.keras.callbacks import ReduceLROnPlateau"
   ]
  },
  {
   "cell_type": "code",
   "execution_count": 2,
   "metadata": {},
   "outputs": [],
   "source": [
    "import matplotlib.pyplot as plt\n",
    "import matplotlib.image as mpimg\n",
    "import seaborn as sns\n",
    "%matplotlib inline\n",
    "\n",
    "import itertools\n",
    "from sklearn.model_selection import train_test_split\n",
    "from sklearn import preprocessing\n",
    "from sklearn.metrics import confusion_matrix"
   ]
  },
  {
   "cell_type": "code",
   "execution_count": 3,
   "metadata": {},
   "outputs": [],
   "source": [
    "# import keras functions\n",
    "from keras import Sequential\n",
    "\n",
    "'''\n",
    "Since we're using transfer learning let's import the model we want to implement. Let's use\n",
    "VGG 19 layers and Resnet-50 (50 layers of residual units)\n",
    "Residual units allow us to add more layers onto the model without a degradation in accuracy.\n",
    "\n",
    "We ll try to compare the accuracy of 2 models and see if the additional layers do make a significant difference.\n",
    "'''\n",
    "\n",
    "from keras.applications import VGG19, ResNet50\n",
    "\n",
    "' Import the datagenerator to augment images '\n",
    "from keras.preprocessing.image import ImageDataGenerator\n",
    "from keras.preprocessing import image_dataset_from_directory\n",
    "\n",
    "'''\n",
    "Import the optimizers and learning rate annealer -> which will reduce the learning rate once a particular\n",
    "metric we choose does not reduce after a user defined number of epochs.\n",
    "'''\n",
    "\n",
    "from keras.optimizers import SGD,Adam\n",
    "from keras.callbacks import ReduceLROnPlateau\n",
    "\n",
    "'Lastly import the final layers that will be added on top of the base model'\n",
    "from keras.layers import Flatten,Dense,BatchNormalization,Activation,Dropout, MaxPooling2D, Conv2D\n",
    "\n",
    "'Import to_categorical from the keras utils package to one hot encode the labels'\n",
    "from keras.utils import to_categorical"
   ]
  },
  {
   "cell_type": "code",
   "execution_count": 88,
   "metadata": {},
   "outputs": [
    {
     "name": "stdout",
     "output_type": "stream",
     "text": [
      "Found 1125 images belonging to 15 classes.\n",
      "Found 375 images belonging to 15 classes.\n",
      "Found 2985 images belonging to 1 classes.\n"
     ]
    }
   ],
   "source": [
    "config = {\n",
    "    'train_path': './output/train',\n",
    "    'valid_path': './output/val',\n",
    "    'test_path': './testing',\n",
    "    'checkpoints': './checkpoints'\n",
    "}\n",
    "\n",
    "classes = ['bedroom', # 0\n",
    "    'coast', # 1\n",
    "    'forest', # 2\n",
    "    'highway', # 3\n",
    "    'industrial', # 4\n",
    "    'insidecity',# 5\n",
    "    'kitchen', # 6\n",
    "    'living-room',# 7           \n",
    "    'mountain', # 8\n",
    "    'office', #9            \n",
    "    'open-country',#10      \n",
    "    'store', # 11\n",
    "    'street',#12    \n",
    "    'suburb',#13          \n",
    "    'tall-building', #14\n",
    "]\n",
    "\n",
    "\n",
    "batch_size = 8\n",
    "resized_output = (200, 200)\n",
    "num_classes= 15\n",
    "\n",
    "SEED = 42\n",
    "\n",
    "train_data_gen = ImageDataGenerator(rotation_range=50,width_shift_range=0.2,height_shift_range=0.2,zoom_range=0.3,\n",
    "            horizontal_flip=True,vertical_flip=True,fill_mode='constant',cval=0,rescale=1./255)\n",
    "valid_data_gen = ImageDataGenerator(rotation_range=45,width_shift_range=0.2,height_shift_range=0.2, zoom_range=0.3,\n",
    "            horizontal_flip=True,vertical_flip=True,fill_mode='constant', cval=0, rescale=1./255)\n",
    "test_data_gen = ImageDataGenerator(rescale=1./255)\n",
    "\n",
    "train_gen = train_data_gen.flow_from_directory(config['train_path'], target_size=resized_output, batch_size=batch_size, classes=classes, class_mode='categorical',shuffle=True, seed=SEED)  \n",
    "valid_gen = valid_data_gen.flow_from_directory(config['valid_path'],target_size=resized_output,batch_size=batch_size, classes=classes, class_mode='categorical', shuffle=False, seed=SEED)\n",
    "test_gen = test_data_gen.flow_from_directory(config['test_path'],target_size=resized_output, batch_size=batch_size+2, shuffle=False,seed=SEED,class_mode=None,)"
   ]
  },
  {
   "cell_type": "code",
   "execution_count": 89,
   "metadata": {},
   "outputs": [],
   "source": [
    "new_model = tf.keras.models.load_model('./saved_model/my_model')"
   ]
  },
  {
   "cell_type": "code",
   "execution_count": 90,
   "metadata": {},
   "outputs": [
    {
     "name": "stdout",
     "output_type": "stream",
     "text": [
      "46/46 [==============================] - 35s 698ms/step - loss: 0.7275 - accuracy: 0.7908\n"
     ]
    },
    {
     "data": {
      "text/plain": [
       "[0.7275394201278687, 0.79076087474823]"
      ]
     },
     "execution_count": 90,
     "metadata": {},
     "output_type": "execute_result"
    }
   ],
   "source": [
    "new_model.evaluate(valid_gen, steps=STEP_SIZE_VALID,verbose=1)"
   ]
  },
  {
   "cell_type": "code",
   "execution_count": 110,
   "metadata": {},
   "outputs": [
    {
     "name": "stdout",
     "output_type": "stream",
     "text": [
      "299/299 [==============================] - 268s 888ms/step\n"
     ]
    }
   ],
   "source": [
    "model = tf.keras.models.load_model('saved_model/my_model')\n",
    "\n",
    "STEP_SIZE_TEST = test_gen.n//test_gen.batch_size\n",
    "test_gen.reset()\n",
    "\n",
    "pred = model.predict(test_gen, verbose=1)\n",
    "\n",
    "predicted_class_indices=np.argmax(pred,axis=1)\n",
    "\n",
    "# CSV file for kaggle submission\n",
    "\n",
    "labels = train_gen.class_indices\n",
    "labels = dict((v,k) for k,v in labels.items())\n",
    "predictions = [k for k in predicted_class_indices]"
   ]
  },
  {
   "cell_type": "code",
   "execution_count": 112,
   "metadata": {},
   "outputs": [
    {
     "name": "stdout",
     "output_type": "stream",
     "text": [
      "0 14\n"
     ]
    }
   ],
   "source": [
    "len(predicted_class_indices)\n",
    "max_value = max(predicted_class_indices)\n",
    "min_value = min(predicted_class_indices)\n",
    "\n",
    "print(min_value, max_value)"
   ]
  },
  {
   "cell_type": "code",
   "execution_count": 113,
   "metadata": {
    "scrolled": true
   },
   "outputs": [
    {
     "name": "stdout",
     "output_type": "stream",
     "text": [
      "2985 2985\n"
     ]
    }
   ],
   "source": [
    "filenames = test_gen.filenames\n",
    "\n",
    "def pred_to_original(pred):\n",
    "    return labels[pred]\n",
    "\n",
    "pred_mapped = [pred_to_original(k) for k in predictions]\n",
    "image_names = []\n",
    "\n",
    "for f in filenames:\n",
    "    _, image_name = f.split('/')\n",
    "    if image_name.split('.')[1] == 'jpg':\n",
    "        image_names.append(image_name)\n",
    "\n",
    "print(len(image_names), len(pred_mapped))\n",
    "    \n",
    "meta = {'image_name': image_names, 'category': pred_mapped}\n",
    "dataframe = pd.DataFrame(data=meta)"
   ]
  },
  {
   "cell_type": "code",
   "execution_count": 114,
   "metadata": {},
   "outputs": [
    {
     "data": {
      "text/html": [
       "<div>\n",
       "<style scoped>\n",
       "    .dataframe tbody tr th:only-of-type {\n",
       "        vertical-align: middle;\n",
       "    }\n",
       "\n",
       "    .dataframe tbody tr th {\n",
       "        vertical-align: top;\n",
       "    }\n",
       "\n",
       "    .dataframe thead th {\n",
       "        text-align: right;\n",
       "    }\n",
       "</style>\n",
       "<table border=\"1\" class=\"dataframe\">\n",
       "  <thead>\n",
       "    <tr style=\"text-align: right;\">\n",
       "      <th></th>\n",
       "      <th>image_name</th>\n",
       "      <th>category</th>\n",
       "    </tr>\n",
       "  </thead>\n",
       "  <tbody>\n",
       "    <tr>\n",
       "      <th>0</th>\n",
       "      <td>0.jpg</td>\n",
       "      <td>insidecity</td>\n",
       "    </tr>\n",
       "    <tr>\n",
       "      <th>1</th>\n",
       "      <td>1.jpg</td>\n",
       "      <td>forest</td>\n",
       "    </tr>\n",
       "    <tr>\n",
       "      <th>2</th>\n",
       "      <td>10.jpg</td>\n",
       "      <td>open-country</td>\n",
       "    </tr>\n",
       "    <tr>\n",
       "      <th>3</th>\n",
       "      <td>100.jpg</td>\n",
       "      <td>open-country</td>\n",
       "    </tr>\n",
       "    <tr>\n",
       "      <th>4</th>\n",
       "      <td>1000.jpg</td>\n",
       "      <td>store</td>\n",
       "    </tr>\n",
       "    <tr>\n",
       "      <th>...</th>\n",
       "      <td>...</td>\n",
       "      <td>...</td>\n",
       "    </tr>\n",
       "    <tr>\n",
       "      <th>2980</th>\n",
       "      <td>995.jpg</td>\n",
       "      <td>coast</td>\n",
       "    </tr>\n",
       "    <tr>\n",
       "      <th>2981</th>\n",
       "      <td>996.jpg</td>\n",
       "      <td>tall-building</td>\n",
       "    </tr>\n",
       "    <tr>\n",
       "      <th>2982</th>\n",
       "      <td>997.jpg</td>\n",
       "      <td>open-country</td>\n",
       "    </tr>\n",
       "    <tr>\n",
       "      <th>2983</th>\n",
       "      <td>998.jpg</td>\n",
       "      <td>open-country</td>\n",
       "    </tr>\n",
       "    <tr>\n",
       "      <th>2984</th>\n",
       "      <td>999.jpg</td>\n",
       "      <td>insidecity</td>\n",
       "    </tr>\n",
       "  </tbody>\n",
       "</table>\n",
       "<p>2985 rows × 2 columns</p>\n",
       "</div>"
      ],
      "text/plain": [
       "     image_name       category\n",
       "0         0.jpg     insidecity\n",
       "1         1.jpg         forest\n",
       "2        10.jpg   open-country\n",
       "3       100.jpg   open-country\n",
       "4      1000.jpg          store\n",
       "...         ...            ...\n",
       "2980    995.jpg          coast\n",
       "2981    996.jpg  tall-building\n",
       "2982    997.jpg   open-country\n",
       "2983    998.jpg   open-country\n",
       "2984    999.jpg     insidecity\n",
       "\n",
       "[2985 rows x 2 columns]"
      ]
     },
     "execution_count": 114,
     "metadata": {},
     "output_type": "execute_result"
    }
   ],
   "source": [
    "dataframe"
   ]
  },
  {
   "cell_type": "code",
   "execution_count": 116,
   "metadata": {},
   "outputs": [],
   "source": [
    "dataframe.to_csv(r'run3.txt', header=None, index=None, sep=' ', mode='a')"
   ]
  },
  {
   "cell_type": "code",
   "execution_count": 124,
   "metadata": {},
   "outputs": [
    {
     "data": {
      "text/plain": [
       "{}"
      ]
     },
     "execution_count": 124,
     "metadata": {},
     "output_type": "execute_result"
    }
   ],
   "source": [
    "new_model.history.history"
   ]
  },
  {
   "cell_type": "code",
   "execution_count": 126,
   "metadata": {},
   "outputs": [],
   "source": [
    "import pickle\n",
    "history = pickle.load(open('/tmp/trained-history', 'rb'))"
   ]
  },
  {
   "cell_type": "code",
   "execution_count": 185,
   "metadata": {},
   "outputs": [
    {
     "data": {
      "text/plain": [
       "[<matplotlib.lines.Line2D at 0x7f88834370a0>]"
      ]
     },
     "execution_count": 185,
     "metadata": {},
     "output_type": "execute_result"
    },
    {
     "data": {
      "image/png": "[encoded data removed]",
      "text/plain": [
       "<Figure size 432x288 with 1 Axes>"
      ]
     },
     "metadata": {
      "needs_background": "light"
     },
     "output_type": "display_data"
    }
   ],
   "source": [
    "plt.plot(history['accuracy'],color='b',label='Training Loss')\n",
    "plt.plot(history['val_accuracy'],color='r',label='Validation Loss')"
   ]
  },
  {
   "cell_type": "code",
   "execution_count": 186,
   "metadata": {},
   "outputs": [
    {
     "data": {
      "text/plain": [
       "[<matplotlib.lines.Line2D at 0x7f8883553130>]"
      ]
     },
     "execution_count": 186,
     "metadata": {},
     "output_type": "execute_result"
    },
    {
     "data": {
      "image/png": "[encoded data removed]",
      "text/plain": [
       "<Figure size 432x288 with 1 Axes>"
      ]
     },
     "metadata": {
      "needs_background": "light"
     },
     "output_type": "display_data"
    }
   ],
   "source": [
    "plt.plot(history['loss'],color='b',label='Training Loss')\n",
    "plt.plot(history['val_loss'],color='r',label='Validation Loss')"
   ]
  },
  {
   "cell_type": "code",
   "execution_count": 180,
   "metadata": {},
   "outputs": [],
   "source": [
    "model = tf.keras.models.load_model('saved_model/my_model')"
   ]
  },
  {
   "cell_type": "code",
   "execution_count": 181,
   "metadata": {},
   "outputs": [
    {
     "name": "stdout",
     "output_type": "stream",
     "text": [
      "47/47 [==============================] - 31s 613ms/step\n"
     ]
    }
   ],
   "source": [
    "y_pred = model.predict(valid_gen, verbose=1)\n",
    "\n",
    "pred = np.argmax(y_pred, axis=1)\n",
    "\n",
    "classes = []\n",
    "for v, k in valid_gen.class_indices.items():\n",
    "    classes.append(v)\n",
    "classes\n",
    "\n",
    "y_true = valid_gen.classes"
   ]
  },
  {
   "cell_type": "code",
   "execution_count": 188,
   "metadata": {},
   "outputs": [
    {
     "data": {
      "text/plain": [
       "<AxesSubplot:>"
      ]
     },
     "execution_count": 188,
     "metadata": {},
     "output_type": "execute_result"
    },
    {
     "data": {
      "image/png": "[encoded data removed]",
      "text/plain": [
       "<Figure size 720x504 with 2 Axes>"
      ]
     },
     "metadata": {
      "needs_background": "light"
     },
     "output_type": "display_data"
    }
   ],
   "source": [
    "import seaborn as sn\n",
    "from sklearn.metrics import confusion_matrix\n",
    "\n",
    "matrix = confusion_matrix(y_true, pred)\n",
    "\n",
    "df_cm = pd.DataFrame(matrix, index = [i for i in classes], columns = [i for i in classes])\n",
    "plt.figure(figsize = (10,7))\n",
    "sn.heatmap(df_cm, annot=True)"
   ]
  },
  {
   "cell_type": "code",
   "execution_count": 183,
   "metadata": {},
   "outputs": [
    {
     "data": {
      "text/plain": [
       "array([[19,  0,  0,  0,  0,  0,  0,  5,  0,  0,  0,  1,  0,  0,  0],\n",
       "       [ 0, 19,  1,  0,  0,  0,  0,  0,  0,  0,  5,  0,  0,  0,  0],\n",
       "       [ 0,  0, 19,  0,  2,  0,  0,  0,  2,  0,  1,  0,  0,  1,  0],\n",
       "       [ 0,  1,  0, 20,  0,  0,  0,  0,  1,  0,  2,  0,  1,  0,  0],\n",
       "       [ 0,  0,  0,  0, 21,  0,  0,  1,  0,  0,  0,  3,  0,  0,  0],\n",
       "       [ 0,  0,  0,  0,  4, 15,  1,  0,  0,  0,  0,  3,  0,  1,  1],\n",
       "       [ 0,  0,  0,  0,  0,  0, 19,  2,  0,  3,  0,  1,  0,  0,  0],\n",
       "       [ 2,  0,  0,  0,  0,  0,  1, 18,  0,  4,  0,  0,  0,  0,  0],\n",
       "       [ 0,  1,  0,  1,  0,  0,  0,  0, 22,  0,  1,  0,  0,  0,  0],\n",
       "       [ 0,  0,  0,  0,  0,  0,  5,  2,  0, 15,  0,  2,  0,  0,  1],\n",
       "       [ 0,  4,  2,  0,  0,  0,  0,  0,  1,  0, 18,  0,  0,  0,  0],\n",
       "       [ 0,  0,  1,  0,  1,  0,  1,  3,  0,  1,  0, 15,  1,  1,  1],\n",
       "       [ 0,  0,  0,  0,  1,  0,  0,  0,  0,  0,  0,  0, 24,  0,  0],\n",
       "       [ 0,  0,  0,  0,  0,  0,  0,  0,  0,  0,  0,  0,  0, 25,  0],\n",
       "       [ 0,  0,  0,  0,  0,  0,  0,  0,  0,  0,  0,  0,  0,  0, 25]])"
      ]
     },
     "execution_count": 183,
     "metadata": {},
     "output_type": "execute_result"
    }
   ],
   "source": []
  },
  {
   "cell_type": "code",
   "execution_count": null,
   "metadata": {},
   "outputs": [],
   "source": []
  }
 ],
 "metadata": {
  "kernelspec": {
   "display_name": "Python 3",
   "language": "python",
   "name": "python3"
  },
  "language_info": {
   "codemirror_mode": {
    "name": "ipython",
    "version": 3
   },
   "file_extension": ".py",
   "mimetype": "text/x-python",
   "name": "python",
   "nbconvert_exporter": "python",
   "pygments_lexer": "ipython3",
   "version": "3.8.3"
  }
 },
 "nbformat": 4,
 "nbformat_minor": 4
}
