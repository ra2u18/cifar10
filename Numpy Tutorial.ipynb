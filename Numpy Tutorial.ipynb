{
 "cells": [
  {
   "cell_type": "code",
   "execution_count": 1,
   "metadata": {},
   "outputs": [],
   "source": [
    "import numpy as np\n",
    "import matplotlib.pylab as plt\n",
    "from numpy import random"
   ]
  },
  {
   "cell_type": "code",
   "execution_count": 3,
   "metadata": {},
   "outputs": [],
   "source": [
    "# Introduction\n",
    "\n",
    "list_1 = [1,2,3,4,5]\n",
    "np_arr_1 = np.array(list_1, dtype=np.int8)\n",
    "np_arr_1\n",
    "\n",
    "m_list_1 = [[1,2,3], [4,5,6], [7,8,9]]\n",
    "np_m_arr_1 = np.array(m_list_1)"
   ]
  },
  {
   "cell_type": "code",
   "execution_count": 15,
   "metadata": {},
   "outputs": [
    {
     "data": {
      "text/plain": [
       "array([[21, 27, 49],\n",
       "       [43, 43, 35]])"
      ]
     },
     "execution_count": 15,
     "metadata": {},
     "output_type": "execute_result"
    }
   ],
   "source": [
    "np.arange(0, 5, 2)\n",
    "np.linspace(0, 5, 5)\n",
    "\n",
    "np.zeros(4)\n",
    "np.ones((2,3))\n",
    "\n",
    "# check for the size & dtype\n",
    "np_m_arr_1.size\n",
    "np_m_arr_1.dtype\n",
    "\n",
    "# create random np arrays\n",
    "np.random.randint(10,50,size=(2,3))\n",
    "\n",
    "# run this for more info np.random.randint?"
   ]
  },
  {
   "cell_type": "code",
   "execution_count": 27,
   "metadata": {},
   "outputs": [
    {
     "name": "stdout",
     "output_type": "stream",
     "text": [
      "np_m_arr_1 \n",
      " [[10  2  3]\n",
      " [ 5  5  6]\n",
      " [10  8  9]]\n",
      "np_m_arr_1 \n",
      " [[10  2  3]\n",
      " [10  5  6]\n",
      " [10  8  9]]\n"
     ]
    },
    {
     "data": {
      "text/plain": [
       "array([ 2,  3,  5,  6,  8,  9, 10])"
      ]
     },
     "execution_count": 27,
     "metadata": {},
     "output_type": "execute_result"
    }
   ],
   "source": [
    "# Slicing and Indexes\n",
    "np_m_arr_1.shape\n",
    "np_m_arr_1.itemset((1,0), 5)\n",
    "np_m_arr_1\n",
    "\n",
    "print(f\"np_m_arr_1 \\n {np_m_arr_1}\")\n",
    "\n",
    "np.take(np_m_arr_1, [0, 3, 6])\n",
    "np.put(np_m_arr_1, [0, 3, 6], [10,10,10])\n",
    "\n",
    "print(f\"np_m_arr_1 \\n {np_m_arr_1}\")\n",
    "\n",
    "np_m_arr_1[:, 1]\n",
    "np_m_arr_1[::-1] # flipping the array\n",
    "\n",
    "evens = np_m_arr_1[np_m_arr_1%2==0] # use logical operators\n",
    "evens\n",
    "\n",
    "np_m_arr_1[(np_m_arr_1 > 5) & (np_m_arr_1< 9)] # multiple logical operators\n",
    "\n",
    "np.unique(np_m_arr_1)"
   ]
  },
  {
   "cell_type": "code",
   "execution_count": 41,
   "metadata": {},
   "outputs": [
    {
     "name": "stdout",
     "output_type": "stream",
     "text": [
      "[[ 2  3 10]\n",
      " [ 5  6 10]\n",
      " [ 8  9 10]]\n"
     ]
    },
    {
     "data": {
      "text/plain": [
       "array([[ 2,  3, 10],\n",
       "       [ 5,  6, 10],\n",
       "       [ 8,  9, 10]])"
      ]
     },
     "execution_count": 41,
     "metadata": {},
     "output_type": "execute_result"
    }
   ],
   "source": [
    "# Reshaping Arrays\n",
    "print(np_m_arr_1)\n",
    "\n",
    "np_m_arr_1.reshape((1,9))\n",
    "\n",
    "np_m_arr_1.transpose() #np_m_arr_1.swapaxes(0,1)\n",
    "np_m_arr_1.flatten('F') # flatten by column\n",
    "np_m_arr_1.sort(axis=0)\n",
    "np_m_arr_1"
   ]
  },
  {
   "cell_type": "code",
   "execution_count": 46,
   "metadata": {},
   "outputs": [
    {
     "name": "stdout",
     "output_type": "stream",
     "text": [
      "ss\n",
      " [[0 7]\n",
      " [6 1]]\n"
     ]
    },
    {
     "data": {
      "text/plain": [
       "array([[0, 7]])"
      ]
     },
     "execution_count": 46,
     "metadata": {},
     "output_type": "execute_result"
    }
   ],
   "source": [
    "# Stacking & Splitting\n",
    "ss_arr_1 = np.random.randint(10, size=(2,2))\n",
    "print(f\"ss\\n {ss_arr_1}\")\n",
    "\n",
    "ss_arr_3 = np.delete(ss_arr_1, 1, 0)\n",
    "ss_arr_3"
   ]
  },
  {
   "cell_type": "code",
   "execution_count": null,
   "metadata": {},
   "outputs": [],
   "source": []
  }
 ],
 "metadata": {
  "kernelspec": {
   "display_name": "Python 3",
   "language": "python",
   "name": "python3"
  },
  "language_info": {
   "codemirror_mode": {
    "name": "ipython",
    "version": 3
   },
   "file_extension": ".py",
   "mimetype": "text/x-python",
   "name": "python",
   "nbconvert_exporter": "python",
   "pygments_lexer": "ipython3",
   "version": "3.8.3"
  }
 },
 "nbformat": 4,
 "nbformat_minor": 4
}
